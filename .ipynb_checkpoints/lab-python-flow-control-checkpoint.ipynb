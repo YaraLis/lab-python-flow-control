{
 "cells": [
  {
   "cell_type": "markdown",
   "id": "d3bfc191-8885-42ee-b0a0-bbab867c6f9f",
   "metadata": {
    "tags": []
   },
   "source": [
    "# Lab | Flow Control"
   ]
  },
  {
   "cell_type": "code",
   "execution_count": null,
   "id": "f7f41f9a",
   "metadata": {},
   "outputs": [],
   "source": []
  },
  {
   "cell_type": "markdown",
   "id": "3851fcd1-cf98-4653-9c89-e003b7ec9400",
   "metadata": {},
   "source": [
    "## Exercise: Managing Customer Orders Optimized\n",
    "\n",
    "In the last lab, you were starting an online store that sells various products. To ensure smooth operations, you developed a program that manages customer orders and inventory.\n",
    "\n",
    "You did so without using flow control. Let's go a step further and improve this code.\n",
    "\n",
    "Follow the steps below to complete the exercise:\n",
    "\n",
    "1. Look at your code from the lab data structures, and improve repeated code with loops.\n",
    "\n",
    "2. Instead of asking the user to input the name of three products that a customer wants to order, do the following:\n",
    "    \n",
    "    a. Prompt the user to enter the name of a product that a customer wants to order.\n",
    "    \n",
    "    b. Add the product name to the \"customer_orders\" set.\n",
    "    \n",
    "    c. Ask the user if they want to add another product (yes/no).\n",
    "    \n",
    "    d. Continue the loop until the user does not want to add another product.\n",
    "\n",
    "3. Instead of updating the inventory by subtracting 1 from the quantity of each product, only do it for  the products that were ordered (those in \"customer_orders\")."
   ]
  },
  {
   "cell_type": "code",
   "execution_count": 1,
   "id": "5bbd7a10",
   "metadata": {},
   "outputs": [
    {
     "name": "stdout",
     "output_type": "stream",
     "text": [
      "how many units are avialable in t-shirt?10\n",
      "how many units are avialable in mug?20\n",
      "how many units are avialable in hat?30\n",
      "how many units are avialable in book?40\n",
      "how many units are avialable in keychain?50\n",
      "{'t-shirt': 10, 'mug': 20, 'hat': 30, 'book': 40, 'keychain': 50}\n"
     ]
    }
   ],
   "source": [
    "#Look at your code from the lab data structures, and improve repeated code with loops.\n",
    "\n",
    "products=[\"t-shirt\", \"mug\", \"hat\", \"book\", \"keychain\"]\n",
    "inventory={}\n",
    "for items in products:\n",
    "    units= input (f\"how many units are avialable in {items}?\")\n",
    "    units= int(units)\n",
    "    inventory [items]= units\n",
    "print (inventory)\n",
    "\n"
   ]
  },
  {
   "cell_type": "code",
   "execution_count": 2,
   "id": "9996a564",
   "metadata": {},
   "outputs": [
    {
     "name": "stdout",
     "output_type": "stream",
     "text": [
      "Please add a product: mug\n",
      "{'mug'}\n",
      "mug added to the order\n",
      "Please add a product: hat\n",
      "{'mug', 'hat'}\n",
      "hat added to the order\n",
      "Please add a product: book\n",
      "{'book', 'mug', 'hat'}\n",
      "book added to the order\n",
      "{'book', 'mug', 'hat'}\n"
     ]
    }
   ],
   "source": [
    "customer_orders=set()\n",
    "products=[\"t-shirt\", \"mug\", \"hat\", \"book\", \"keychain\"]\n",
    "\n",
    "for i in range(3):\n",
    "    product_name= input(\"Please add a product: \")\n",
    "    if product_name in products:\n",
    "        customer_orders.add(product_name)\n",
    "        print(customer_orders)\n",
    "    \n",
    "        print(f\"{product_name} added to the order\")\n",
    "    else:\n",
    "        print(f\"Invalid product {product_name}\")\n",
    "\n",
    "print(customer_orders)"
   ]
  },
  {
   "cell_type": "code",
   "execution_count": 3,
   "id": "a1be5a38",
   "metadata": {},
   "outputs": [
    {
     "name": "stdout",
     "output_type": "stream",
     "text": [
      "{'t-shirt': 10, 'mug': 19, 'hat': 29, 'book': 39, 'keychain': 50}\n"
     ]
    }
   ],
   "source": [
    "products=[\"t-shirt\", \"mug\", \"hat\", \"book\", \"keychain\"]\n",
    "inventory_1={}\n",
    "\n",
    "for items in customer_orders:\n",
    "    inventory[items]-=1\n",
    "    \n",
    "print(inventory)\n",
    "    "
   ]
  },
  {
   "cell_type": "code",
   "execution_count": null,
   "id": "3ad4efa3",
   "metadata": {},
   "outputs": [],
   "source": [
    "#Instead of asking the user to input the name of three products that a customer wants to order, do the following:\n",
    "#a. Prompt the user to enter the name of a product that a customer wants to order.    \n",
    "customer_orders=set()\n",
    "products=[\"t-shirt\", \"mug\", \"hat\", \"book\", \"keychain\"]\n",
    "\n",
    "for items in products:\n",
    "    product_name= input(\"Please add a product:\")\n",
    "    if product_name is customer_orders:\n",
    "        customer_orders.add(product_name)\n",
    "        print(f\"{product_name} add your product\")\n"
   ]
  },
  {
   "cell_type": "code",
   "execution_count": 20,
   "id": "99f44dd7",
   "metadata": {},
   "outputs": [
    {
     "ename": "NameError",
     "evalue": "name 'product_1' is not defined",
     "output_type": "error",
     "traceback": [
      "\u001b[1;31m---------------------------------------------------------------------------\u001b[0m",
      "\u001b[1;31mNameError\u001b[0m                                 Traceback (most recent call last)",
      "Cell \u001b[1;32mIn[20], line 4\u001b[0m\n\u001b[0;32m      2\u001b[0m products \u001b[38;5;241m=\u001b[39m [\u001b[38;5;124m\"\u001b[39m\u001b[38;5;124mt-shirt\u001b[39m\u001b[38;5;124m\"\u001b[39m, \u001b[38;5;124m\"\u001b[39m\u001b[38;5;124mmug\u001b[39m\u001b[38;5;124m\"\u001b[39m, \u001b[38;5;124m\"\u001b[39m\u001b[38;5;124mhat\u001b[39m\u001b[38;5;124m\"\u001b[39m, \u001b[38;5;124m\"\u001b[39m\u001b[38;5;124mbook\u001b[39m\u001b[38;5;124m\"\u001b[39m, \u001b[38;5;124m\"\u001b[39m\u001b[38;5;124mkeychain\u001b[39m\u001b[38;5;124m\"\u001b[39m]\n\u001b[0;32m      3\u001b[0m customer_orders \u001b[38;5;241m=\u001b[39m \u001b[38;5;28mset\u001b[39m()\n\u001b[1;32m----> 4\u001b[0m product_1()\n\u001b[0;32m      5\u001b[0m \u001b[38;5;28;01mwhile\u001b[39;00m \u001b[38;5;28;01mTrue\u001b[39;00m:\n\u001b[0;32m      6\u001b[0m     product \u001b[38;5;241m=\u001b[39m \u001b[38;5;28minput\u001b[39m(\u001b[38;5;124m\"\u001b[39m\u001b[38;5;124mPlease enter the name of a product (or \u001b[39m\u001b[38;5;124m'\u001b[39m\u001b[38;5;124mdone\u001b[39m\u001b[38;5;124m'\u001b[39m\u001b[38;5;124m to finish): \u001b[39m\u001b[38;5;124m\"\u001b[39m)\n",
      "\u001b[1;31mNameError\u001b[0m: name 'product_1' is not defined"
     ]
    }
   ],
   "source": [
    "#Add the product name to the \"customer_orders\" set.\n",
    "products = [\"t-shirt\", \"mug\", \"hat\", \"book\", \"keychain\"]\n",
    "customer_orders = set()\n",
    "product_1()\n",
    "while True:\n",
    "    product = input(\"Please enter the name of a product (or 'done' to finish): \")\n",
    "\n",
    "    if product_1() == \"done\":\n",
    "        break\n",
    "    if product_1() in products:\n",
    "        customer_orders.add(product_1())\n",
    "        print(f\"{product} added to the order.\")\n",
    "    else:\n",
    "        print(f\"Invalid product: {product}\")\n",
    "\n",
    "print(\"Customer order has been placed.\")\n",
    "print(\"Customer Orders:\", customer_orders)\n",
    "\n"
   ]
  },
  {
   "cell_type": "code",
   "execution_count": 19,
   "id": "d87747cc",
   "metadata": {},
   "outputs": [
    {
     "name": "stdout",
     "output_type": "stream",
     "text": [
      "Please enter the name of a product: mug\n"
     ]
    },
    {
     "ename": "NameError",
     "evalue": "name 'item' is not defined",
     "output_type": "error",
     "traceback": [
      "\u001b[1;31m---------------------------------------------------------------------------\u001b[0m",
      "\u001b[1;31mNameError\u001b[0m                                 Traceback (most recent call last)",
      "Cell \u001b[1;32mIn[19], line 10\u001b[0m\n\u001b[0;32m      7\u001b[0m product \u001b[38;5;241m=\u001b[39m \u001b[38;5;28minput\u001b[39m(\u001b[38;5;124m\"\u001b[39m\u001b[38;5;124mPlease enter the name of a product: \u001b[39m\u001b[38;5;124m\"\u001b[39m)\n\u001b[0;32m      9\u001b[0m \u001b[38;5;28;01mif\u001b[39;00m items \u001b[38;5;129;01min\u001b[39;00m products:\n\u001b[1;32m---> 10\u001b[0m     customer_orders\u001b[38;5;241m.\u001b[39madd(item())\n\u001b[0;32m     11\u001b[0m     \u001b[38;5;28mprint\u001b[39m(\u001b[38;5;124mf\u001b[39m\u001b[38;5;124m\"\u001b[39m\u001b[38;5;132;01m{\u001b[39;00mproduct\u001b[38;5;132;01m}\u001b[39;00m\u001b[38;5;124m added to the order.\u001b[39m\u001b[38;5;124m\"\u001b[39m)\n\u001b[0;32m     12\u001b[0m \u001b[38;5;28;01melse\u001b[39;00m:\n",
      "\u001b[1;31mNameError\u001b[0m: name 'item' is not defined"
     ]
    }
   ],
   "source": [
    "#Ask the user if they want to add another product (yes/no).\n",
    "products = [\"t-shirt\", \"mug\", \"hat\", \"book\", \"keychain\"]\n",
    "\n",
    "customer_orders = set()\n",
    "\n",
    "while True:\n",
    "    product = input(\"Please enter the name of a product: \")\n",
    "\n",
    "    if items in products:\n",
    "        customer_orders.add(item())\n",
    "        print(f\"{product} added to the order.\")\n",
    "    else:\n",
    "        print(f\"Invalid product: {product}\")\n",
    "\n",
    "    choice = input(\"Do you want to add another product? (yes/no): \")\n",
    "    if choice.lower() != \"yes\":\n",
    "        break\n",
    "\n",
    "print(\"Customer order has been placed.\")\n",
    "print(\"Customer Orders:\", customer_orders)"
   ]
  },
  {
   "cell_type": "code",
   "execution_count": 21,
   "id": "b0b7941f",
   "metadata": {},
   "outputs": [
    {
     "name": "stdout",
     "output_type": "stream",
     "text": [
      "Please enter the name of a product: mug\n"
     ]
    },
    {
     "ename": "NameError",
     "evalue": "name 'product_1' is not defined",
     "output_type": "error",
     "traceback": [
      "\u001b[1;31m---------------------------------------------------------------------------\u001b[0m",
      "\u001b[1;31mNameError\u001b[0m                                 Traceback (most recent call last)",
      "Cell \u001b[1;32mIn[21], line 13\u001b[0m\n\u001b[0;32m     11\u001b[0m \u001b[38;5;28;01mwhile\u001b[39;00m \u001b[38;5;28;01mTrue\u001b[39;00m:\n\u001b[0;32m     12\u001b[0m     product \u001b[38;5;241m=\u001b[39m \u001b[38;5;28minput\u001b[39m(\u001b[38;5;124m\"\u001b[39m\u001b[38;5;124mPlease enter the name of a product: \u001b[39m\u001b[38;5;124m\"\u001b[39m)\n\u001b[1;32m---> 13\u001b[0m     \u001b[38;5;28;01mif\u001b[39;00m product_1() \u001b[38;5;129;01min\u001b[39;00m inventory\u001b[38;5;241m.\u001b[39mkeys():\n\u001b[0;32m     14\u001b[0m         customer_orders\u001b[38;5;241m.\u001b[39madd(product_1())\n\u001b[0;32m     15\u001b[0m         \u001b[38;5;28mprint\u001b[39m(\u001b[38;5;124mf\u001b[39m\u001b[38;5;124m\"\u001b[39m\u001b[38;5;132;01m{\u001b[39;00mproduct\u001b[38;5;132;01m}\u001b[39;00m\u001b[38;5;124m added to the order.\u001b[39m\u001b[38;5;124m\"\u001b[39m)\n",
      "\u001b[1;31mNameError\u001b[0m: name 'product_1' is not defined"
     ]
    }
   ],
   "source": [
    "inventory = {\n",
    "    \"t-shirt\": 10,\n",
    "    \"mug\": 20,\n",
    "    \"hat\": 30,\n",
    "    \"book\": 40,\n",
    "    \"keychain\": 50\n",
    "}\n",
    "\n",
    "customer_orders = set()\n",
    "\n",
    "while True:\n",
    "    product = input(\"Please enter the name of a product: \")\n",
    "    if product_1() in inventory.keys():\n",
    "        customer_orders.add(product_1())\n",
    "        print(f\"{product} added to the order.\")\n",
    "    else:\n",
    "        print(f\"Invalid product: {product}\")\n",
    "    choice = input(\"Do you want to add another product? (yes/no): \")\n",
    "    if choice.lower() == \"no\":\n",
    "        break\n",
    "\n",
    "print(\"Customer order has been placed.\")\n",
    "for product in customer_orders:\n",
    "    if product in inventory.keys():\n",
    "        inventory[product] -= 1\n",
    "\n",
    "print(\"Updated Inventory:\", inventory)"
   ]
  },
  {
   "cell_type": "code",
   "execution_count": null,
   "id": "69ae21c4",
   "metadata": {},
   "outputs": [],
   "source": []
  }
 ],
 "metadata": {
  "kernelspec": {
   "display_name": "Python 3 (ipykernel)",
   "language": "python",
   "name": "python3"
  },
  "language_info": {
   "codemirror_mode": {
    "name": "ipython",
    "version": 3
   },
   "file_extension": ".py",
   "mimetype": "text/x-python",
   "name": "python",
   "nbconvert_exporter": "python",
   "pygments_lexer": "ipython3",
   "version": "3.11.5"
  }
 },
 "nbformat": 4,
 "nbformat_minor": 5
}
